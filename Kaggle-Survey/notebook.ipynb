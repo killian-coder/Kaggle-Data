{
  "cells": [
    {
      "metadata": {
        "_uuid": "6b570624685f5094064063975f3e7bd03ff3fbe4",
        "_cell_guid": "65628e18-4343-47a5-bd12-5e40f282b1b4"
      },
      "cell_type": "markdown",
      "source": "\n### Get the Dataset Here: \nhttps://www.kaggle.com/josephgpinto/data-science-survey/data\n\nFor the first time, Kaggle conducted an industry-wide survey to establish a comprehensive view of the state of data science and machine learning. The survey received over 16,000 responses and we learned a ton about who is working with data, what’s happening at the cutting edge of machine learning across industries, and how new data scientists can best break into the field.\n\nTo share some of the initial insights from the survey, we’ve worked with the folks from The Pudding to put together this interactive report. They’ve shared all of the kernels used in the report here."
    },
    {
      "metadata": {
        "_uuid": "4c5076d0179e22f3a30a64bcf30bbaba39183fdc",
        "_cell_guid": "d2e188c0-042f-4cc0-ae3d-7c51672d2e24"
      },
      "cell_type": "markdown",
      "source": "### Step 1: Load Necessary Libraries:"
    },
    {
      "metadata": {
        "collapsed": true,
        "_uuid": "05a1d1b52e4380ffa7b2af56dfcf1af261899ec4",
        "_cell_guid": "c70082ce-2313-451d-b63f-08a82d37bc20",
        "trusted": false
      },
      "cell_type": "code",
      "source": "import numpy as np\nimport pandas as pd\nimport seaborn as sns\nimport matplotlib.pyplot as plt\nfrom matplotlib import rcParams\n%matplotlib inline\nrcParams['figure.figsize'] = 20,8",
      "execution_count": null,
      "outputs": []
    },
    {
      "metadata": {
        "_uuid": "bb73d22cbca0c0374cede499321d9449c22a1837",
        "_cell_guid": "246b7d92-11bf-4637-953d-dcb011b14197"
      },
      "cell_type": "markdown",
      "source": "### Step 2: Load the Data:"
    },
    {
      "metadata": {
        "_uuid": "1574c90af7a729cd67e5166d71929021ce4d82bf",
        "_cell_guid": "39725f45-30ce-4ea9-a647-f5dcc5204542",
        "trusted": false,
        "collapsed": true
      },
      "cell_type": "code",
      "source": "data = pd.read_csv('../input/multipleChoiceResponses.csv', encoding = \"ISO-8859-1\")",
      "execution_count": null,
      "outputs": []
    },
    {
      "metadata": {
        "_uuid": "8bc6164f234b84a80455e682209d09e10b3ddfd9",
        "_cell_guid": "f5ed00e8-55d2-4357-a04a-24b6cfcfff63",
        "trusted": false,
        "collapsed": true
      },
      "cell_type": "code",
      "source": "print(data.shape)",
      "execution_count": null,
      "outputs": []
    },
    {
      "metadata": {
        "collapsed": true,
        "_uuid": "586684e25a378bbc45c833c7fdfe9ade2858a1de",
        "_cell_guid": "6168cfc2-5d33-4153-8c83-7c10a82d4cd3",
        "trusted": false
      },
      "cell_type": "code",
      "source": "",
      "execution_count": null,
      "outputs": []
    },
    {
      "metadata": {
        "_uuid": "560cd55760b060fa23f934c6ac243363e559cccb",
        "_cell_guid": "332826bf-8cf4-4bce-abd0-22c5e850075c"
      },
      "cell_type": "markdown",
      "source": "### Step 3: Data Visualization:\nWe will start buy visualizing the Gender count that took part in the survey as per comprehensive view.\nThe plot below shows the number of Females and Males and other sexes that took their time to finish the survey."
    },
    {
      "metadata": {
        "_uuid": "5c6875da486a22bead6a2a548ea781d59322571b",
        "_cell_guid": "37c449b2-74e0-41f6-8012-09b3978a8124",
        "trusted": false,
        "collapsed": true
      },
      "cell_type": "code",
      "source": "# fig, ax = plt.subplots(2,1, figsize = (20,15))\nax= sns.countplot(x = 'GenderSelect', data = data, palette = 'Set1')\nax.set(title = 'Gender Count as per compreensive view', ylabel = 'Total', xlabel = 'Gender')\nplt.show()",
      "execution_count": null,
      "outputs": []
    },
    {
      "metadata": {
        "_uuid": "51f2cbabce7c83f419283d031281570112d62d8b",
        "_cell_guid": "27aef126-5047-48ed-b4be-aed503a60f6b"
      },
      "cell_type": "markdown",
      "source": "### Plot 2:\nThis plot shows the countries and the number of people who took the survey from those countries"
    },
    {
      "metadata": {
        "_uuid": "1426781c498e4a3f6fb98258ca4bda75447c2d6d",
        "_cell_guid": "7dbf5e6c-1761-44ba-a22f-d51bf7697908",
        "trusted": false,
        "collapsed": true
      },
      "cell_type": "code",
      "source": "fig, ax = plt.subplots(1,1, figsize = (12,20))\nsns.countplot(y = 'Country', data = data, palette = 'Set1')\nax.set(title = 'Countries and Number of User who took the survey', ylabel = 'Country', xlabel = 'Total Users')\nplt.show()",
      "execution_count": null,
      "outputs": []
    },
    {
      "metadata": {
        "_uuid": "111f3f76bbfca7a0f7e0a4440792fdf716825ab2",
        "_cell_guid": "8feafa0b-b96f-4670-bf36-89022d58f044"
      },
      "cell_type": "markdown",
      "source": "### Plot 2:\nThis plot shows the countries and the number of people who took the survey from those countries categorized by \ntheir Genders."
    },
    {
      "metadata": {
        "_uuid": "638b99752cc5e6d787ab6ede2161bbac5781ac44",
        "_cell_guid": "198df860-3821-4c02-8230-5b7ac7523cdf",
        "trusted": false,
        "collapsed": true
      },
      "cell_type": "code",
      "source": "fig, ax = plt.subplots(1,1, figsize = (10,40))\nsns.countplot(y = 'Country', data = data, hue = 'GenderSelect', palette = 'Set1')\nax.set(title = 'Countries and Number of Users who took the survey by Gender', ylabel = 'Country', xlabel = 'Total Users')\nplt.show()",
      "execution_count": null,
      "outputs": []
    },
    {
      "metadata": {
        "collapsed": true,
        "_uuid": "9cf88bb86b7209d3c94f6e9e1592a3c3ccf8f7e3",
        "_cell_guid": "7c3b0e2c-31ee-4ef2-ab45-9d3ba7fcb1ee",
        "trusted": false
      },
      "cell_type": "code",
      "source": "",
      "execution_count": null,
      "outputs": []
    },
    {
      "metadata": {
        "_uuid": "1ca2255f28ee0b2f756d06cec432c9695ad9cd31",
        "_cell_guid": "fe170f31-8a69-40c3-a9b8-f16c906095e7",
        "trusted": false,
        "collapsed": true
      },
      "cell_type": "code",
      "source": "fig, ax = plt.subplots(1,1, figsize = (10,10))\nsns.countplot(y = 'EmploymentStatus', data = data, palette = 'Set1')\nax.set(title = 'User Employment Status', ylabel = 'Employment Status', xlabel = 'Total Users')\nplt.show()",
      "execution_count": null,
      "outputs": []
    },
    {
      "metadata": {
        "_uuid": "14150b72be4d11351faec75a66252b413b421c38",
        "_cell_guid": "ae0ba37b-e46a-4e1f-8e07-99480ed7e31e"
      },
      "cell_type": "markdown",
      "source": "### Employment Status as per Gender:"
    },
    {
      "metadata": {
        "_uuid": "c81ba404e7adb8f44398e4ec6d59ea86746cd8d1",
        "_cell_guid": "403e2494-dc95-48fb-aa2e-cde49ade17b4",
        "trusted": false,
        "collapsed": true
      },
      "cell_type": "code",
      "source": "fig, ax = plt.subplots(1,1, figsize = (10,12))\nsns.countplot(y = 'EmploymentStatus', data = data,hue='GenderSelect', palette = 'Set1')\nax.set(title = 'User Employment Status', ylabel = 'Employment Status', xlabel = 'Total Users')\nplt.show()",
      "execution_count": null,
      "outputs": []
    },
    {
      "metadata": {
        "_uuid": "a3cb37b8650642c269aadb556febb04c64112b5c",
        "_cell_guid": "9f11ee2f-1a01-45a0-956d-c8fa17fd8a14"
      },
      "cell_type": "markdown",
      "source": "### Career Switchers: \nThe Plot shows the number of people who are actively considering to switch careers to data science<br>\n<b>Quesstion Asked:</b> Are you actively looking to switch careers to data science?"
    },
    {
      "metadata": {
        "collapsed": true,
        "_uuid": "0b03675e7968fbbe6f36589b906f096d40256c1b",
        "_cell_guid": "0dfa42b3-44e8-442e-8c59-da650c9a43a2",
        "trusted": false
      },
      "cell_type": "code",
      "source": "# First of all since we have NaNs in the Career Switcher column, we have to assume the user decided\n# Not to specify, thus we replace the 'NaN' object with the text 'Unspecified' to make our job easier to do.\n\ndata['CareerSwitcher'].fillna('0', inplace = True)\ndata['CareerSwitcher'] = data['CareerSwitcher'].map({\n    '0': 'Unspecified',\n    'Yes':'Yes',\n    'No':'No'\n})",
      "execution_count": null,
      "outputs": []
    },
    {
      "metadata": {
        "_uuid": "1f0c4eee7df4068814dc2d8de60b9a15c4a388a9",
        "_cell_guid": "405abaa2-869a-4d63-a054-c357841e030d",
        "trusted": false,
        "collapsed": true
      },
      "cell_type": "code",
      "source": "fig, ax = plt.subplots(1,2,figsize = (15,6))\nsns.countplot(x = 'CareerSwitcher', data = data, palette = 'Set1',ax=ax[0])\nsns.countplot(x = 'CareerSwitcher', hue = 'GenderSelect', palette = 'Set1', data = data,ax=ax[1])\nax[0].set(title = 'Career Switcher Distribution', ylabel= 'Total', xlabel = 'Career Switcher')\nax[1].set(title = 'Career Switcher Distribution By Gender', ylabel= 'Total', xlabel = 'Career Switcher')\nplt.show()",
      "execution_count": null,
      "outputs": []
    },
    {
      "metadata": {
        "_uuid": "a74afb71f6cd0f6c2a1ef898d7d2046f41393a62",
        "_cell_guid": "fe100ccd-e043-48ee-aad3-94c93d0b1bd4"
      },
      "cell_type": "markdown",
      "source": "### Age and Gender Comparisons: Also Distribution plot of Age:\nFrom the below example (Distribution plot) we can see that there is a higher concentration of users between the Age of 20 and 40, similarly...the results on the violin plot suggests so as well."
    },
    {
      "metadata": {
        "_uuid": "f3762a3aaf0e3044cc7c178facb5bf95afff84fb",
        "_cell_guid": "ac2db0a6-eb03-4a3f-bc64-f1676cb665f8",
        "trusted": false,
        "collapsed": true
      },
      "cell_type": "code",
      "source": "data['Age'].fillna(0, inplace = True)\nfig, ax = plt.subplots(2,1, figsize = (15,9))\nsns.factorplot(x = 'GenderSelect', y = 'Age',ax = ax[0], data = data, kind = 'violin')\nsns.distplot(data['Age'],ax = ax[1])\nax[0].set(title = 'Gender x Age', xlabel = 'Gender')\nax[1].set(title = 'Distribution Plot of Age')\nplt.show()",
      "execution_count": null,
      "outputs": []
    },
    {
      "metadata": {
        "_uuid": "ef7a56e4095146badd061aabd46f76069c13dd82",
        "_cell_guid": "dd8a0548-b2ba-4f80-a23d-fbde670c6255",
        "trusted": false,
        "collapsed": true
      },
      "cell_type": "code",
      "source": "data['CurrentJobTitleSelect'].fillna('Unspecified', inplace = True)\ndata['CurrentJobTitleSelect'].unique()",
      "execution_count": null,
      "outputs": []
    },
    {
      "metadata": {
        "_uuid": "16856b81148c3348b30b3e38b3f97fb83906fad9",
        "_cell_guid": "5bbda3b9-eb0f-4eb0-a1bf-38c52c06a23d",
        "trusted": false,
        "collapsed": true
      },
      "cell_type": "code",
      "source": "fig, ax = plt.subplots(1,1, figsize = (10, 10))\nsns.countplot(y = 'CurrentJobTitleSelect', data = data, palette = 'Set1')\nax.set(title = 'Job Titles Selection', ylabel = 'Job Title', xlabel = 'Total people')\n\nfig, ax = plt.subplots(1,1, figsize = (10, 10))\nsns.countplot(y = 'CurrentJobTitleSelect', hue = 'GenderSelect', data = data, palette = 'Set1')\nax.set(title = 'Job Title selections By Gender', ylabel = 'Job Title', xlabel = 'Total people (By gender)')\n\n\n\nplt.show()",
      "execution_count": null,
      "outputs": []
    },
    {
      "metadata": {
        "_uuid": "e5964f03a5303885e66772f5430c471d1041c461",
        "_cell_guid": "d82a7973-c0c9-4bb8-a2bb-e45f00a32e2b",
        "trusted": false,
        "collapsed": true
      },
      "cell_type": "code",
      "source": "data['CurrentJobTitleSelect'].unique()",
      "execution_count": null,
      "outputs": []
    },
    {
      "metadata": {
        "collapsed": true,
        "_uuid": "d6b0da85edd4b33dc45f43230fbe9f4c5da15a2f",
        "_cell_guid": "b62a4116-4b21-49bf-9a60-2c7ce0b16e37",
        "trusted": false
      },
      "cell_type": "code",
      "source": "# LETS SHORTEN THE JOB TITLES FOR A CLEANER PLOT\ndata['CurrentJobTitleSelect'] = data['CurrentJobTitleSelect'].map({\n    'DBA/Database Engineer' : 'DBA',\n    'Unspecified': 'X',\n    'Operations Research Practitioner': 'ORP',\n    'Computer Scientist': 'CS',\n    'Data Scientist': 'DS',\n    'Software Developer/Software Engineer':'SE',\n    'Business Analyst': 'BA',\n    'Engineer':'EN',\n    'Scientist/Researcher': 'S/R',\n    'Researcer':'RES',\n    'Other':'O',\n    'Data Analyst': 'DA',\n    'Machine Learning Engineer': 'MLE',\n    'Statistician': 'ST',\n    'Predictive Modeler': 'PM',\n    'Programmer':'PR',\n    'Data Miner':'DM'\n})",
      "execution_count": null,
      "outputs": []
    },
    {
      "metadata": {
        "_cell_guid": "88e4a41f-5fd3-4d80-8ef6-868abd0650dd",
        "_uuid": "cb8635c897aa87daf03416892aae6e89f6e5cef0",
        "scrolled": true,
        "trusted": false,
        "collapsed": true
      },
      "cell_type": "code",
      "source": "data['LearningDataScience'].fillna('Unspecified', inplace = True)\ndata['LearningDataScience'].unique()",
      "execution_count": null,
      "outputs": []
    },
    {
      "metadata": {
        "_uuid": "127c8b9b7c0c7f08ee5e599d7169cc9f24e97a41",
        "_cell_guid": "dd7472fc-4021-44b4-9cd6-04f7cebb329f"
      },
      "cell_type": "markdown",
      "source": "Question Asked: <b>Are you currently focused on learning data science skills either formally or informally?</b><br/>\nFrom the plot below, we can tell that most of the did not have an answer to this question or did not choose to answer it, Althoug most of those who answered came from the 'X' distribution which simply denotes people who are not employed or practicing formally in the Data Science/ Machine Learning field."
    },
    {
      "metadata": {
        "_uuid": "353fd1720d02ecd7ee0db2790a779ca1f9622049",
        "_cell_guid": "d1be3118-bf6d-49e2-8de0-2eb45d2a9dc7",
        "trusted": false,
        "collapsed": true
      },
      "cell_type": "code",
      "source": "fig, ax = plt.subplots(1,1, figsize = (10, 5))\nsns.countplot(x = 'CurrentJobTitleSelect',data = data, hue='LearningDataScience')\nax.set(title = 'Job Title selections By Gender', ylabel = 'Total', xlabel = 'Job Titles as categorized by Gender')\nplt.show()",
      "execution_count": null,
      "outputs": []
    },
    {
      "metadata": {
        "collapsed": true,
        "_uuid": "2cf86baf9248b9bf95ca2dbf14acf863e84dd70c",
        "_cell_guid": "9be2f48f-011f-46a7-a4f6-0a9c7ae3b1a0",
        "trusted": false
      },
      "cell_type": "code",
      "source": "data['CodeWriter'].fillna('Unspecified', inplace = True)\n# data['CodeWriter']",
      "execution_count": null,
      "outputs": []
    },
    {
      "metadata": {
        "_uuid": "0fdd7102e4dc267ff81bd4941ccfc6c01494241a",
        "_cell_guid": "ea632747-d03e-4a66-8b2a-88b29cd6c68e",
        "trusted": false,
        "collapsed": true
      },
      "cell_type": "code",
      "source": "fig, ax = plt.subplots(nrows = 3, figsize = (15,15))\nsns.countplot(x = 'CodeWriter', data = data, hue = 'GenderSelect',ax = ax[0])\nsns.countplot(x = 'CodeWriter', data = data, palette = 'Set1', hue = 'CurrentJobTitleSelect',ax = ax[1])\nsns.countplot(x = 'CodeWriter', data = data, ax = ax[2])\nax[0].set(title = 'Code Writer or Not')\nax[1].set(title = 'Code writer By Job')\nax[2].set(title = 'Code Writer or Not In Total')",
      "execution_count": null,
      "outputs": []
    },
    {
      "metadata": {
        "_uuid": "01ad297d031d46e60e1b47ef0ba23a027d415714",
        "_cell_guid": "8a776f3c-034e-4fe7-8248-4c99adc183f5",
        "trusted": false,
        "collapsed": true
      },
      "cell_type": "code",
      "source": "data['StudentStatus'].unique()",
      "execution_count": null,
      "outputs": []
    },
    {
      "metadata": {
        "_uuid": "7f639f2e2064f5a3214cf9bdd50746749f60df42",
        "_cell_guid": "6342eef8-0df9-40cd-8e0a-0da6b4996b5a"
      },
      "cell_type": "markdown",
      "source": "### Note: Work in Progress"
    }
  ],
  "metadata": {
    "kernelspec": {
      "display_name": "Python 3",
      "language": "python",
      "name": "python3"
    },
    "language_info": {
      "name": "python",
      "version": "3.6.4",
      "mimetype": "text/x-python",
      "codemirror_mode": {
        "name": "ipython",
        "version": 3
      },
      "pygments_lexer": "ipython3",
      "nbconvert_exporter": "python",
      "file_extension": ".py"
    }
  },
  "nbformat": 4,
  "nbformat_minor": 1
}