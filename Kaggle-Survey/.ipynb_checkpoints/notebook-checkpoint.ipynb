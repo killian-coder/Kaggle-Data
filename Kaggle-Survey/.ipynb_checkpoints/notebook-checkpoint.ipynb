{
 "cells": [
  {
   "cell_type": "markdown",
   "metadata": {
    "_cell_guid": "65628e18-4343-47a5-bd12-5e40f282b1b4",
    "_uuid": "6b570624685f5094064063975f3e7bd03ff3fbe4"
   },
   "source": [
    "\n",
    "### Get the Dataset Here: \n",
    "https://www.kaggle.com/josephgpinto/data-science-survey/data\n",
    "\n",
    "For the first time, Kaggle conducted an industry-wide survey to establish a comprehensive view of the state of data science and machine learning. The survey received over 16,000 responses and we learned a ton about who is working with data, what’s happening at the cutting edge of machine learning across industries, and how new data scientists can best break into the field.\n",
    "\n",
    "To share some of the initial insights from the survey, we’ve worked with the folks from The Pudding to put together this interactive report. They’ve shared all of the kernels used in the report here."
   ]
  },
  {
   "cell_type": "markdown",
   "metadata": {
    "_cell_guid": "d2e188c0-042f-4cc0-ae3d-7c51672d2e24",
    "_uuid": "4c5076d0179e22f3a30a64bcf30bbaba39183fdc"
   },
   "source": [
    "### Step 1: Load Necessary Libraries:"
   ]
  },
  {
   "cell_type": "code",
   "execution_count": 1,
   "metadata": {
    "_cell_guid": "c70082ce-2313-451d-b63f-08a82d37bc20",
    "_uuid": "05a1d1b52e4380ffa7b2af56dfcf1af261899ec4"
   },
   "outputs": [],
   "source": [
    "import numpy as np\n",
    "import pandas as pd\n",
    "import seaborn as sns\n",
    "import matplotlib.pyplot as plt\n",
    "from matplotlib import rcParams\n",
    "%matplotlib inline\n",
    "rcParams['figure.figsize'] = 20,8"
   ]
  },
  {
   "cell_type": "markdown",
   "metadata": {
    "_cell_guid": "246b7d92-11bf-4637-953d-dcb011b14197",
    "_uuid": "bb73d22cbca0c0374cede499321d9449c22a1837"
   },
   "source": [
    "### Step 2: Load the Data:"
   ]
  },
  {
   "cell_type": "code",
   "execution_count": 3,
   "metadata": {
    "_cell_guid": "39725f45-30ce-4ea9-a647-f5dcc5204542",
    "_uuid": "1574c90af7a729cd67e5166d71929021ce4d82bf"
   },
   "outputs": [
    {
     "ename": "FileNotFoundError",
     "evalue": "File b'../input/multipleChoiceResponses.csv' does not exist",
     "output_type": "error",
     "traceback": [
      "\u001b[0;31m---------------------------------------------------------------------------\u001b[0m",
      "\u001b[0;31mFileNotFoundError\u001b[0m                         Traceback (most recent call last)",
      "\u001b[0;32m<ipython-input-3-4a3e2f9534b0>\u001b[0m in \u001b[0;36m<module>\u001b[0;34m()\u001b[0m\n\u001b[0;32m----> 1\u001b[0;31m \u001b[0mdata\u001b[0m \u001b[0;34m=\u001b[0m \u001b[0mpd\u001b[0m\u001b[0;34m.\u001b[0m\u001b[0mread_csv\u001b[0m\u001b[0;34m(\u001b[0m\u001b[0;34m'../input/multipleChoiceResponses.csv'\u001b[0m\u001b[0;34m,\u001b[0m \u001b[0mencoding\u001b[0m \u001b[0;34m=\u001b[0m \u001b[0;34m\"ISO-8859-1\"\u001b[0m\u001b[0;34m)\u001b[0m\u001b[0;34m\u001b[0m\u001b[0m\n\u001b[0m",
      "\u001b[0;32m/usr/local/lib/python3.5/dist-packages/pandas/io/parsers.py\u001b[0m in \u001b[0;36mparser_f\u001b[0;34m(filepath_or_buffer, sep, delimiter, header, names, index_col, usecols, squeeze, prefix, mangle_dupe_cols, dtype, engine, converters, true_values, false_values, skipinitialspace, skiprows, nrows, na_values, keep_default_na, na_filter, verbose, skip_blank_lines, parse_dates, infer_datetime_format, keep_date_col, date_parser, dayfirst, iterator, chunksize, compression, thousands, decimal, lineterminator, quotechar, quoting, escapechar, comment, encoding, dialect, tupleize_cols, error_bad_lines, warn_bad_lines, skipfooter, skip_footer, doublequote, delim_whitespace, as_recarray, compact_ints, use_unsigned, low_memory, buffer_lines, memory_map, float_precision)\u001b[0m\n\u001b[1;32m    707\u001b[0m                     skip_blank_lines=skip_blank_lines)\n\u001b[1;32m    708\u001b[0m \u001b[0;34m\u001b[0m\u001b[0m\n\u001b[0;32m--> 709\u001b[0;31m         \u001b[0;32mreturn\u001b[0m \u001b[0m_read\u001b[0m\u001b[0;34m(\u001b[0m\u001b[0mfilepath_or_buffer\u001b[0m\u001b[0;34m,\u001b[0m \u001b[0mkwds\u001b[0m\u001b[0;34m)\u001b[0m\u001b[0;34m\u001b[0m\u001b[0m\n\u001b[0m\u001b[1;32m    710\u001b[0m \u001b[0;34m\u001b[0m\u001b[0m\n\u001b[1;32m    711\u001b[0m     \u001b[0mparser_f\u001b[0m\u001b[0;34m.\u001b[0m\u001b[0m__name__\u001b[0m \u001b[0;34m=\u001b[0m \u001b[0mname\u001b[0m\u001b[0;34m\u001b[0m\u001b[0m\n",
      "\u001b[0;32m/usr/local/lib/python3.5/dist-packages/pandas/io/parsers.py\u001b[0m in \u001b[0;36m_read\u001b[0;34m(filepath_or_buffer, kwds)\u001b[0m\n\u001b[1;32m    447\u001b[0m \u001b[0;34m\u001b[0m\u001b[0m\n\u001b[1;32m    448\u001b[0m     \u001b[0;31m# Create the parser.\u001b[0m\u001b[0;34m\u001b[0m\u001b[0;34m\u001b[0m\u001b[0m\n\u001b[0;32m--> 449\u001b[0;31m     \u001b[0mparser\u001b[0m \u001b[0;34m=\u001b[0m \u001b[0mTextFileReader\u001b[0m\u001b[0;34m(\u001b[0m\u001b[0mfilepath_or_buffer\u001b[0m\u001b[0;34m,\u001b[0m \u001b[0;34m**\u001b[0m\u001b[0mkwds\u001b[0m\u001b[0;34m)\u001b[0m\u001b[0;34m\u001b[0m\u001b[0m\n\u001b[0m\u001b[1;32m    450\u001b[0m \u001b[0;34m\u001b[0m\u001b[0m\n\u001b[1;32m    451\u001b[0m     \u001b[0;32mif\u001b[0m \u001b[0mchunksize\u001b[0m \u001b[0;32mor\u001b[0m \u001b[0miterator\u001b[0m\u001b[0;34m:\u001b[0m\u001b[0;34m\u001b[0m\u001b[0m\n",
      "\u001b[0;32m/usr/local/lib/python3.5/dist-packages/pandas/io/parsers.py\u001b[0m in \u001b[0;36m__init__\u001b[0;34m(self, f, engine, **kwds)\u001b[0m\n\u001b[1;32m    816\u001b[0m             \u001b[0mself\u001b[0m\u001b[0;34m.\u001b[0m\u001b[0moptions\u001b[0m\u001b[0;34m[\u001b[0m\u001b[0;34m'has_index_names'\u001b[0m\u001b[0;34m]\u001b[0m \u001b[0;34m=\u001b[0m \u001b[0mkwds\u001b[0m\u001b[0;34m[\u001b[0m\u001b[0;34m'has_index_names'\u001b[0m\u001b[0;34m]\u001b[0m\u001b[0;34m\u001b[0m\u001b[0m\n\u001b[1;32m    817\u001b[0m \u001b[0;34m\u001b[0m\u001b[0m\n\u001b[0;32m--> 818\u001b[0;31m         \u001b[0mself\u001b[0m\u001b[0;34m.\u001b[0m\u001b[0m_make_engine\u001b[0m\u001b[0;34m(\u001b[0m\u001b[0mself\u001b[0m\u001b[0;34m.\u001b[0m\u001b[0mengine\u001b[0m\u001b[0;34m)\u001b[0m\u001b[0;34m\u001b[0m\u001b[0m\n\u001b[0m\u001b[1;32m    819\u001b[0m \u001b[0;34m\u001b[0m\u001b[0m\n\u001b[1;32m    820\u001b[0m     \u001b[0;32mdef\u001b[0m \u001b[0mclose\u001b[0m\u001b[0;34m(\u001b[0m\u001b[0mself\u001b[0m\u001b[0;34m)\u001b[0m\u001b[0;34m:\u001b[0m\u001b[0;34m\u001b[0m\u001b[0m\n",
      "\u001b[0;32m/usr/local/lib/python3.5/dist-packages/pandas/io/parsers.py\u001b[0m in \u001b[0;36m_make_engine\u001b[0;34m(self, engine)\u001b[0m\n\u001b[1;32m   1047\u001b[0m     \u001b[0;32mdef\u001b[0m \u001b[0m_make_engine\u001b[0m\u001b[0;34m(\u001b[0m\u001b[0mself\u001b[0m\u001b[0;34m,\u001b[0m \u001b[0mengine\u001b[0m\u001b[0;34m=\u001b[0m\u001b[0;34m'c'\u001b[0m\u001b[0;34m)\u001b[0m\u001b[0;34m:\u001b[0m\u001b[0;34m\u001b[0m\u001b[0m\n\u001b[1;32m   1048\u001b[0m         \u001b[0;32mif\u001b[0m \u001b[0mengine\u001b[0m \u001b[0;34m==\u001b[0m \u001b[0;34m'c'\u001b[0m\u001b[0;34m:\u001b[0m\u001b[0;34m\u001b[0m\u001b[0m\n\u001b[0;32m-> 1049\u001b[0;31m             \u001b[0mself\u001b[0m\u001b[0;34m.\u001b[0m\u001b[0m_engine\u001b[0m \u001b[0;34m=\u001b[0m \u001b[0mCParserWrapper\u001b[0m\u001b[0;34m(\u001b[0m\u001b[0mself\u001b[0m\u001b[0;34m.\u001b[0m\u001b[0mf\u001b[0m\u001b[0;34m,\u001b[0m \u001b[0;34m**\u001b[0m\u001b[0mself\u001b[0m\u001b[0;34m.\u001b[0m\u001b[0moptions\u001b[0m\u001b[0;34m)\u001b[0m\u001b[0;34m\u001b[0m\u001b[0m\n\u001b[0m\u001b[1;32m   1050\u001b[0m         \u001b[0;32melse\u001b[0m\u001b[0;34m:\u001b[0m\u001b[0;34m\u001b[0m\u001b[0m\n\u001b[1;32m   1051\u001b[0m             \u001b[0;32mif\u001b[0m \u001b[0mengine\u001b[0m \u001b[0;34m==\u001b[0m \u001b[0;34m'python'\u001b[0m\u001b[0;34m:\u001b[0m\u001b[0;34m\u001b[0m\u001b[0m\n",
      "\u001b[0;32m/usr/local/lib/python3.5/dist-packages/pandas/io/parsers.py\u001b[0m in \u001b[0;36m__init__\u001b[0;34m(self, src, **kwds)\u001b[0m\n\u001b[1;32m   1693\u001b[0m         \u001b[0mkwds\u001b[0m\u001b[0;34m[\u001b[0m\u001b[0;34m'allow_leading_cols'\u001b[0m\u001b[0;34m]\u001b[0m \u001b[0;34m=\u001b[0m \u001b[0mself\u001b[0m\u001b[0;34m.\u001b[0m\u001b[0mindex_col\u001b[0m \u001b[0;32mis\u001b[0m \u001b[0;32mnot\u001b[0m \u001b[0;32mFalse\u001b[0m\u001b[0;34m\u001b[0m\u001b[0m\n\u001b[1;32m   1694\u001b[0m \u001b[0;34m\u001b[0m\u001b[0m\n\u001b[0;32m-> 1695\u001b[0;31m         \u001b[0mself\u001b[0m\u001b[0;34m.\u001b[0m\u001b[0m_reader\u001b[0m \u001b[0;34m=\u001b[0m \u001b[0mparsers\u001b[0m\u001b[0;34m.\u001b[0m\u001b[0mTextReader\u001b[0m\u001b[0;34m(\u001b[0m\u001b[0msrc\u001b[0m\u001b[0;34m,\u001b[0m \u001b[0;34m**\u001b[0m\u001b[0mkwds\u001b[0m\u001b[0;34m)\u001b[0m\u001b[0;34m\u001b[0m\u001b[0m\n\u001b[0m\u001b[1;32m   1696\u001b[0m \u001b[0;34m\u001b[0m\u001b[0m\n\u001b[1;32m   1697\u001b[0m         \u001b[0;31m# XXX\u001b[0m\u001b[0;34m\u001b[0m\u001b[0;34m\u001b[0m\u001b[0m\n",
      "\u001b[0;32mpandas/_libs/parsers.pyx\u001b[0m in \u001b[0;36mpandas._libs.parsers.TextReader.__cinit__\u001b[0;34m()\u001b[0m\n",
      "\u001b[0;32mpandas/_libs/parsers.pyx\u001b[0m in \u001b[0;36mpandas._libs.parsers.TextReader._setup_parser_source\u001b[0;34m()\u001b[0m\n",
      "\u001b[0;31mFileNotFoundError\u001b[0m: File b'../input/multipleChoiceResponses.csv' does not exist"
     ]
    }
   ],
   "source": [
    "data = pd.read_csv('/kaggle/multipleChoiceResponses.csv', encoding = \"ISO-8859-1\")"
   ]
  },
  {
   "cell_type": "code",
   "execution_count": null,
   "metadata": {
    "_cell_guid": "f5ed00e8-55d2-4357-a04a-24b6cfcfff63",
    "_uuid": "8bc6164f234b84a80455e682209d09e10b3ddfd9"
   },
   "outputs": [],
   "source": [
    "print(data.shape)"
   ]
  },
  {
   "cell_type": "code",
   "execution_count": null,
   "metadata": {
    "_cell_guid": "6168cfc2-5d33-4153-8c83-7c10a82d4cd3",
    "_uuid": "586684e25a378bbc45c833c7fdfe9ade2858a1de"
   },
   "outputs": [],
   "source": []
  },
  {
   "cell_type": "markdown",
   "metadata": {
    "_cell_guid": "332826bf-8cf4-4bce-abd0-22c5e850075c",
    "_uuid": "560cd55760b060fa23f934c6ac243363e559cccb"
   },
   "source": [
    "### Step 3: Data Visualization:\n",
    "We will start buy visualizing the Gender count that took part in the survey as per comprehensive view.\n",
    "The plot below shows the number of Females and Males and other sexes that took their time to finish the survey."
   ]
  },
  {
   "cell_type": "code",
   "execution_count": null,
   "metadata": {
    "_cell_guid": "37c449b2-74e0-41f6-8012-09b3978a8124",
    "_uuid": "5c6875da486a22bead6a2a548ea781d59322571b"
   },
   "outputs": [],
   "source": [
    "# fig, ax = plt.subplots(2,1, figsize = (20,15))\n",
    "ax= sns.countplot(x = 'GenderSelect', data = data, palette = 'Set1')\n",
    "ax.set(title = 'Gender Count as per compreensive view', ylabel = 'Total', xlabel = 'Gender')\n",
    "plt.show()"
   ]
  },
  {
   "cell_type": "markdown",
   "metadata": {
    "_cell_guid": "27aef126-5047-48ed-b4be-aed503a60f6b",
    "_uuid": "51f2cbabce7c83f419283d031281570112d62d8b"
   },
   "source": [
    "### Plot 2:\n",
    "This plot shows the countries and the number of people who took the survey from those countries"
   ]
  },
  {
   "cell_type": "code",
   "execution_count": null,
   "metadata": {
    "_cell_guid": "7dbf5e6c-1761-44ba-a22f-d51bf7697908",
    "_uuid": "1426781c498e4a3f6fb98258ca4bda75447c2d6d"
   },
   "outputs": [],
   "source": [
    "fig, ax = plt.subplots(1,1, figsize = (12,20))\n",
    "sns.countplot(y = 'Country', data = data, palette = 'Set1')\n",
    "ax.set(title = 'Countries and Number of User who took the survey', ylabel = 'Country', xlabel = 'Total Users')\n",
    "plt.show()"
   ]
  },
  {
   "cell_type": "markdown",
   "metadata": {
    "_cell_guid": "8feafa0b-b96f-4670-bf36-89022d58f044",
    "_uuid": "111f3f76bbfca7a0f7e0a4440792fdf716825ab2"
   },
   "source": [
    "### Plot 2:\n",
    "This plot shows the countries and the number of people who took the survey from those countries categorized by \n",
    "their Genders."
   ]
  },
  {
   "cell_type": "code",
   "execution_count": null,
   "metadata": {
    "_cell_guid": "198df860-3821-4c02-8230-5b7ac7523cdf",
    "_uuid": "638b99752cc5e6d787ab6ede2161bbac5781ac44"
   },
   "outputs": [],
   "source": [
    "fig, ax = plt.subplots(1,1, figsize = (10,40))\n",
    "sns.countplot(y = 'Country', data = data, hue = 'GenderSelect', palette = 'Set1')\n",
    "ax.set(title = 'Countries and Number of Users who took the survey by Gender', ylabel = 'Country', xlabel = 'Total Users')\n",
    "plt.show()"
   ]
  },
  {
   "cell_type": "code",
   "execution_count": null,
   "metadata": {
    "_cell_guid": "7c3b0e2c-31ee-4ef2-ab45-9d3ba7fcb1ee",
    "_uuid": "9cf88bb86b7209d3c94f6e9e1592a3c3ccf8f7e3"
   },
   "outputs": [],
   "source": []
  },
  {
   "cell_type": "code",
   "execution_count": null,
   "metadata": {
    "_cell_guid": "fe170f31-8a69-40c3-a9b8-f16c906095e7",
    "_uuid": "1ca2255f28ee0b2f756d06cec432c9695ad9cd31"
   },
   "outputs": [],
   "source": [
    "fig, ax = plt.subplots(1,1, figsize = (10,10))\n",
    "sns.countplot(y = 'EmploymentStatus', data = data, palette = 'Set1')\n",
    "ax.set(title = 'User Employment Status', ylabel = 'Employment Status', xlabel = 'Total Users')\n",
    "plt.show()"
   ]
  },
  {
   "cell_type": "markdown",
   "metadata": {
    "_cell_guid": "ae0ba37b-e46a-4e1f-8e07-99480ed7e31e",
    "_uuid": "14150b72be4d11351faec75a66252b413b421c38"
   },
   "source": [
    "### Employment Status as per Gender:"
   ]
  },
  {
   "cell_type": "code",
   "execution_count": null,
   "metadata": {
    "_cell_guid": "403e2494-dc95-48fb-aa2e-cde49ade17b4",
    "_uuid": "c81ba404e7adb8f44398e4ec6d59ea86746cd8d1"
   },
   "outputs": [],
   "source": [
    "fig, ax = plt.subplots(1,1, figsize = (10,12))\n",
    "sns.countplot(y = 'EmploymentStatus', data = data,hue='GenderSelect', palette = 'Set1')\n",
    "ax.set(title = 'User Employment Status', ylabel = 'Employment Status', xlabel = 'Total Users')\n",
    "plt.show()"
   ]
  },
  {
   "cell_type": "markdown",
   "metadata": {
    "_cell_guid": "9f11ee2f-1a01-45a0-956d-c8fa17fd8a14",
    "_uuid": "a3cb37b8650642c269aadb556febb04c64112b5c"
   },
   "source": [
    "### Career Switchers: \n",
    "The Plot shows the number of people who are actively considering to switch careers to data science<br>\n",
    "<b>Quesstion Asked:</b> Are you actively looking to switch careers to data science?"
   ]
  },
  {
   "cell_type": "code",
   "execution_count": null,
   "metadata": {
    "_cell_guid": "0dfa42b3-44e8-442e-8c59-da650c9a43a2",
    "_uuid": "0b03675e7968fbbe6f36589b906f096d40256c1b"
   },
   "outputs": [],
   "source": [
    "# First of all since we have NaNs in the Career Switcher column, we have to assume the user decided\n",
    "# Not to specify, thus we replace the 'NaN' object with the text 'Unspecified' to make our job easier to do.\n",
    "\n",
    "data['CareerSwitcher'].fillna('0', inplace = True)\n",
    "data['CareerSwitcher'] = data['CareerSwitcher'].map({\n",
    "    '0': 'Unspecified',\n",
    "    'Yes':'Yes',\n",
    "    'No':'No'\n",
    "})"
   ]
  },
  {
   "cell_type": "code",
   "execution_count": null,
   "metadata": {
    "_cell_guid": "405abaa2-869a-4d63-a054-c357841e030d",
    "_uuid": "1f0c4eee7df4068814dc2d8de60b9a15c4a388a9"
   },
   "outputs": [],
   "source": [
    "fig, ax = plt.subplots(1,2,figsize = (15,6))\n",
    "sns.countplot(x = 'CareerSwitcher', data = data, palette = 'Set1',ax=ax[0])\n",
    "sns.countplot(x = 'CareerSwitcher', hue = 'GenderSelect', palette = 'Set1', data = data,ax=ax[1])\n",
    "ax[0].set(title = 'Career Switcher Distribution', ylabel= 'Total', xlabel = 'Career Switcher')\n",
    "ax[1].set(title = 'Career Switcher Distribution By Gender', ylabel= 'Total', xlabel = 'Career Switcher')\n",
    "plt.show()"
   ]
  },
  {
   "cell_type": "markdown",
   "metadata": {
    "_cell_guid": "fe100ccd-e043-48ee-aad3-94c93d0b1bd4",
    "_uuid": "a74afb71f6cd0f6c2a1ef898d7d2046f41393a62"
   },
   "source": [
    "### Age and Gender Comparisons: Also Distribution plot of Age:\n",
    "From the below example (Distribution plot) we can see that there is a higher concentration of users between the Age of 20 and 40, similarly...the results on the violin plot suggests so as well."
   ]
  },
  {
   "cell_type": "code",
   "execution_count": null,
   "metadata": {
    "_cell_guid": "ac2db0a6-eb03-4a3f-bc64-f1676cb665f8",
    "_uuid": "f3762a3aaf0e3044cc7c178facb5bf95afff84fb"
   },
   "outputs": [],
   "source": [
    "data['Age'].fillna(0, inplace = True)\n",
    "fig, ax = plt.subplots(2,1, figsize = (15,9))\n",
    "sns.factorplot(x = 'GenderSelect', y = 'Age',ax = ax[0], data = data, kind = 'violin')\n",
    "sns.distplot(data['Age'],ax = ax[1])\n",
    "ax[0].set(title = 'Gender x Age', xlabel = 'Gender')\n",
    "ax[1].set(title = 'Distribution Plot of Age')\n",
    "plt.show()"
   ]
  },
  {
   "cell_type": "code",
   "execution_count": null,
   "metadata": {
    "_cell_guid": "dd8a0548-b2ba-4f80-a23d-fbde670c6255",
    "_uuid": "ef7a56e4095146badd061aabd46f76069c13dd82"
   },
   "outputs": [],
   "source": [
    "data['CurrentJobTitleSelect'].fillna('Unspecified', inplace = True)\n",
    "data['CurrentJobTitleSelect'].unique()"
   ]
  },
  {
   "cell_type": "code",
   "execution_count": null,
   "metadata": {
    "_cell_guid": "5bbda3b9-eb0f-4eb0-a1bf-38c52c06a23d",
    "_uuid": "16856b81148c3348b30b3e38b3f97fb83906fad9"
   },
   "outputs": [],
   "source": [
    "fig, ax = plt.subplots(1,1, figsize = (10, 10))\n",
    "sns.countplot(y = 'CurrentJobTitleSelect', data = data, palette = 'Set1')\n",
    "ax.set(title = 'Job Titles Selection', ylabel = 'Job Title', xlabel = 'Total people')\n",
    "\n",
    "fig, ax = plt.subplots(1,1, figsize = (10, 10))\n",
    "sns.countplot(y = 'CurrentJobTitleSelect', hue = 'GenderSelect', data = data, palette = 'Set1')\n",
    "ax.set(title = 'Job Title selections By Gender', ylabel = 'Job Title', xlabel = 'Total people (By gender)')\n",
    "\n",
    "\n",
    "\n",
    "plt.show()"
   ]
  },
  {
   "cell_type": "code",
   "execution_count": null,
   "metadata": {
    "_cell_guid": "d82a7973-c0c9-4bb8-a2bb-e45f00a32e2b",
    "_uuid": "e5964f03a5303885e66772f5430c471d1041c461"
   },
   "outputs": [],
   "source": [
    "data['CurrentJobTitleSelect'].unique()"
   ]
  },
  {
   "cell_type": "code",
   "execution_count": null,
   "metadata": {
    "_cell_guid": "b62a4116-4b21-49bf-9a60-2c7ce0b16e37",
    "_uuid": "d6b0da85edd4b33dc45f43230fbe9f4c5da15a2f"
   },
   "outputs": [],
   "source": [
    "# LETS SHORTEN THE JOB TITLES FOR A CLEANER PLOT\n",
    "data['CurrentJobTitleSelect'] = data['CurrentJobTitleSelect'].map({\n",
    "    'DBA/Database Engineer' : 'DBA',\n",
    "    'Unspecified': 'X',\n",
    "    'Operations Research Practitioner': 'ORP',\n",
    "    'Computer Scientist': 'CS',\n",
    "    'Data Scientist': 'DS',\n",
    "    'Software Developer/Software Engineer':'SE',\n",
    "    'Business Analyst': 'BA',\n",
    "    'Engineer':'EN',\n",
    "    'Scientist/Researcher': 'S/R',\n",
    "    'Researcer':'RES',\n",
    "    'Other':'O',\n",
    "    'Data Analyst': 'DA',\n",
    "    'Machine Learning Engineer': 'MLE',\n",
    "    'Statistician': 'ST',\n",
    "    'Predictive Modeler': 'PM',\n",
    "    'Programmer':'PR',\n",
    "    'Data Miner':'DM'\n",
    "})"
   ]
  },
  {
   "cell_type": "code",
   "execution_count": null,
   "metadata": {
    "_cell_guid": "88e4a41f-5fd3-4d80-8ef6-868abd0650dd",
    "_uuid": "cb8635c897aa87daf03416892aae6e89f6e5cef0",
    "scrolled": true
   },
   "outputs": [],
   "source": [
    "data['LearningDataScience'].fillna('Unspecified', inplace = True)\n",
    "data['LearningDataScience'].unique()"
   ]
  },
  {
   "cell_type": "markdown",
   "metadata": {
    "_cell_guid": "dd7472fc-4021-44b4-9cd6-04f7cebb329f",
    "_uuid": "127c8b9b7c0c7f08ee5e599d7169cc9f24e97a41"
   },
   "source": [
    "Question Asked: <b>Are you currently focused on learning data science skills either formally or informally?</b><br/>\n",
    "From the plot below, we can tell that most of the did not have an answer to this question or did not choose to answer it, Althoug most of those who answered came from the 'X' distribution which simply denotes people who are not employed or practicing formally in the Data Science/ Machine Learning field."
   ]
  },
  {
   "cell_type": "code",
   "execution_count": null,
   "metadata": {
    "_cell_guid": "d1be3118-bf6d-49e2-8de0-2eb45d2a9dc7",
    "_uuid": "353fd1720d02ecd7ee0db2790a779ca1f9622049"
   },
   "outputs": [],
   "source": [
    "fig, ax = plt.subplots(1,1, figsize = (10, 5))\n",
    "sns.countplot(x = 'CurrentJobTitleSelect',data = data, hue='LearningDataScience')\n",
    "ax.set(title = 'Job Title selections By Gender', ylabel = 'Total', xlabel = 'Job Titles as categorized by Gender')\n",
    "plt.show()"
   ]
  },
  {
   "cell_type": "code",
   "execution_count": null,
   "metadata": {
    "_cell_guid": "9be2f48f-011f-46a7-a4f6-0a9c7ae3b1a0",
    "_uuid": "2cf86baf9248b9bf95ca2dbf14acf863e84dd70c"
   },
   "outputs": [],
   "source": [
    "data['CodeWriter'].fillna('Unspecified', inplace = True)\n",
    "# data['CodeWriter']"
   ]
  },
  {
   "cell_type": "code",
   "execution_count": null,
   "metadata": {
    "_cell_guid": "ea632747-d03e-4a66-8b2a-88b29cd6c68e",
    "_uuid": "0fdd7102e4dc267ff81bd4941ccfc6c01494241a"
   },
   "outputs": [],
   "source": [
    "fig, ax = plt.subplots(nrows = 3, figsize = (15,15))\n",
    "sns.countplot(x = 'CodeWriter', data = data, hue = 'GenderSelect',ax = ax[0])\n",
    "sns.countplot(x = 'CodeWriter', data = data, palette = 'Set1', hue = 'CurrentJobTitleSelect',ax = ax[1])\n",
    "sns.countplot(x = 'CodeWriter', data = data, ax = ax[2])\n",
    "ax[0].set(title = 'Code Writer or Not')\n",
    "ax[1].set(title = 'Code writer By Job')\n",
    "ax[2].set(title = 'Code Writer or Not In Total')"
   ]
  },
  {
   "cell_type": "code",
   "execution_count": null,
   "metadata": {
    "_cell_guid": "8a776f3c-034e-4fe7-8248-4c99adc183f5",
    "_uuid": "01ad297d031d46e60e1b47ef0ba23a027d415714"
   },
   "outputs": [],
   "source": [
    "data['StudentStatus'].unique()"
   ]
  },
  {
   "cell_type": "markdown",
   "metadata": {
    "_cell_guid": "6342eef8-0df9-40cd-8e0a-0da6b4996b5a",
    "_uuid": "7f639f2e2064f5a3214cf9bdd50746749f60df42"
   },
   "source": [
    "### Note: Work in Progress"
   ]
  }
 ],
 "metadata": {
  "kernelspec": {
   "display_name": "Python 3",
   "language": "python",
   "name": "python3"
  },
  "language_info": {
   "codemirror_mode": {
    "name": "ipython",
    "version": 3
   },
   "file_extension": ".py",
   "mimetype": "text/x-python",
   "name": "python",
   "nbconvert_exporter": "python",
   "pygments_lexer": "ipython3",
   "version": "3.5.2"
  }
 },
 "nbformat": 4,
 "nbformat_minor": 1
}
